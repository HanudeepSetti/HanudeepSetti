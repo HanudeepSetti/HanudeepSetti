{
  "nbformat": 4,
  "nbformat_minor": 0,
  "metadata": {
    "colab": {
      "private_outputs": true,
      "provenance": [],
      "authorship_tag": "ABX9TyPq2b0CM19rdwEveySde4x9",
      "include_colab_link": true
    },
    "kernelspec": {
      "name": "python3",
      "display_name": "Python 3"
    },
    "language_info": {
      "name": "python"
    }
  },
  "cells": [
    {
      "cell_type": "markdown",
      "metadata": {
        "id": "view-in-github",
        "colab_type": "text"
      },
      "source": [
        "<a href=\"https://colab.research.google.com/github/HanudeepSetti/HanudeepSetti/blob/main/Ad%20Traffic%20Integrity%20Analysis%3A%20Detecting%20and%20Understanding%20IVT%20(Invalid%20Traffic)%20Patterns.ipynb\" target=\"_parent\"><img src=\"https://colab.research.google.com/assets/colab-badge.svg\" alt=\"Open In Colab\"/></a>"
      ]
    },
    {
      "cell_type": "code",
      "execution_count": null,
      "metadata": {
        "id": "xM9DlfdqZh8X"
      },
      "outputs": [],
      "source": [
        "import numpy as np\n",
        "import pandas as pd\n",
        "import matplotlib.pyplot as plt\n",
        "import seaborn as sns\n",
        "import plotly.express as px\n",
        "import plotly.graph_objects as go\n",
        "from plotly.subplots import make_subplots\n",
        "import warnings\n",
        "warnings.filterwarnings('ignore')"
      ]
    },
    {
      "cell_type": "code",
      "source": [
        "import pandas as pd\n",
        "import os\n",
        "\n",
        "# --- File groups ---\n",
        "valid_files = [\n",
        "    \"Data Analytics Assignment - Valid 1.csv\",\n",
        "    \"Data Analytics Assignment - Valid 2.csv\",\n",
        "    \"Data Analytics Assignment - Valid 3.csv\"\n",
        "]\n",
        "\n",
        "invalid_files = [\n",
        "    \"Data Analytics Assignment - Invalid 1.csv\",\n",
        "    \"Data Analytics Assignment - Invalid 2.csv\",\n",
        "    \"Data Analytics Assignment - Invalid 3.csv\"\n",
        "]\n",
        "\n",
        "# --- Empty lists for each data type ---\n",
        "all_total, all_daily, all_hourly = [], [], []\n",
        "\n",
        "\n",
        "# --- Help's function to extract Total, Daily, Hourly sections ---\n",
        "def extract_sections(df_raw, app_name, ivt_value):\n",
        "    df_raw = df_raw.applymap(lambda x: str(x).strip() if pd.notna(x) else x)\n",
        "\n",
        "    def find_index(keyword):\n",
        "        matches = df_raw.index[df_raw.iloc[:, 1].astype(str).str.contains(keyword, na=False, case=False)].tolist()\n",
        "        return matches[0] if matches else None\n",
        "\n",
        "    total_start = find_index(\"Total Data\")\n",
        "    daily_start = find_index(\"Daily Data\")\n",
        "    hourly_start = find_index(\"Hourly Data\")\n",
        "\n",
        "    if not total_start:\n",
        "        print(f\"Skipped {app_name}: 'Total Data' not found\")\n",
        "        return None, None, None\n",
        "\n",
        "    total_end = daily_start - 1 if daily_start else None\n",
        "    daily_end = hourly_start - 1 if hourly_start else None\n",
        "\n",
        "    def clean_section(start, end, label):\n",
        "        if start is None:\n",
        "            return pd.DataFrame()\n",
        "        try:\n",
        "            section = df_raw.iloc[start+1 : end].copy() if end else df_raw.iloc[start+1 :].copy()\n",
        "            section.columns = df_raw.iloc[start+1].values\n",
        "            section = section.iloc[1:].dropna(how=\"all\")\n",
        "            section[\"data_type\"] = label\n",
        "            section[\"app_name\"] = app_name\n",
        "            section[\"IVT\"] = ivt_value\n",
        "            section.reset_index(drop=True, inplace=True)\n",
        "            section.dropna(axis=1, how=\"all\", inplace=True)\n",
        "            return section\n",
        "        except Exception as e:\n",
        "            print(f\"Error in {app_name} - {label} section:\", e)\n",
        "            return pd.DataFrame()\n",
        "\n",
        "    df_total = clean_section(total_start, total_end, \"Total\")\n",
        "    df_daily = clean_section(daily_start, daily_end, \"Daily\")\n",
        "    df_hourly = clean_section(hourly_start, None, \"Hourly\")\n",
        "\n",
        "    print(f\"Processed {app_name}:\",\n",
        "          f\"Total({df_total.shape}), Daily({df_daily.shape}), Hourly({df_hourly.shape})\")\n",
        "\n",
        "    return df_total, df_daily, df_hourly\n",
        "\n",
        "\n",
        "# --- Common loop for both Valid and Invalid files ---\n",
        "def process_file_group(file_list, ivt_value, prefix):\n",
        "    for file in file_list:\n",
        "        if not os.path.exists(file):\n",
        "            print(f\" Missing file: {file}\")\n",
        "            continue\n",
        "        app_name = file.split(\" - \")[-1].replace(\".csv\", \"\").strip()\n",
        "        df_raw = pd.read_csv(file, header=None)\n",
        "        df_total, df_daily, df_hourly = extract_sections(df_raw, f\"App-{prefix}-{app_name}\", ivt_value)\n",
        "        if df_total is not None:\n",
        "            all_total.append(df_total)\n",
        "        if df_daily is not None:\n",
        "            all_daily.append(df_daily)\n",
        "        if df_hourly is not None:\n",
        "            all_hourly.append(df_hourly)\n",
        "\n",
        "\n",
        "# --- Process all datasets ---\n",
        "process_file_group(valid_files, ivt_value=0, prefix=\"Valid\")\n",
        "process_file_group(invalid_files, ivt_value=1, prefix=\"Invalid\")\n",
        "\n",
        "\n",
        "# --- Combine all datasets ---\n",
        "final_total = pd.concat(all_total, ignore_index=True)\n",
        "final_daily = pd.concat(all_daily, ignore_index=True)\n",
        "final_hourly = pd.concat(all_hourly, ignore_index=True)\n",
        "\n",
        "\n",
        "# --- Data cleanup ---\n",
        "def clean_dataframe(df):\n",
        "    df.columns = [str(col).strip() for col in df.columns]\n",
        "    df = df.loc[:, ~df.columns.duplicated()]\n",
        "    for col in df.columns:\n",
        "        if col not in [\"data_type\", \"app_name\"]:\n",
        "            df[col] = pd.to_numeric(df[col], errors=\"ignore\")\n",
        "    df.fillna({\"IVT\": 0, \"app_name\": \"Unknown\", \"data_type\": \"Unknown\"}, inplace=True)\n",
        "    return df\n",
        "\n",
        "\n",
        "final_total = clean_dataframe(final_total)\n",
        "final_daily = clean_dataframe(final_daily)\n",
        "final_daily['Date'] = pd.to_datetime(final_daily['Date'], format='%Y-%m-%d %H:%M:%S')\n",
        "final_hourly = clean_dataframe(final_hourly)\n",
        "final_hourly['Date'] = pd.to_datetime(final_hourly['Date'], format='%Y-%m-%d %H:%M:%S')\n",
        "\n",
        "print(\"Total:\", final_total.head(10))\n",
        "print(\"Daily:\", final_daily.info())\n",
        "print(\"Hourly:\", final_hourly.info())\n"
      ],
      "metadata": {
        "collapsed": true,
        "id": "xxOrp6Mru5dN"
      },
      "execution_count": null,
      "outputs": []
    },
    {
      "cell_type": "code",
      "source": [
        "# ---Checking for Null Values---\n",
        "final_total.isna().sum()\n",
        "final_daily.isna().sum()\n",
        "final_hourly.isna().sum()"
      ],
      "metadata": {
        "collapsed": true,
        "id": "JooVEHr0O0aq"
      },
      "execution_count": null,
      "outputs": []
    },
    {
      "cell_type": "code",
      "source": [
        "#---Key analysis step---\n",
        "\n",
        "from plotly.subplots import make_subplots\n",
        "\n",
        "# Combine all datasets for unified analysis\n",
        "ivt_data = pd.concat([\n",
        "    final_total.assign(Level=\"Total\"),\n",
        "    final_daily.assign(Level=\"Daily\"),\n",
        "    final_hourly.assign(Level=\"Hourly\")\n",
        "], ignore_index=True)\n",
        "\n",
        "\n",
        "sns.pairplot(ivt_data[['total_requests', 'impressions', 'requests_per_idfa', 'impressions_per_idfa', 'IVT']],\n",
        "             hue='IVT', palette='coolwarm')\n",
        "plt.suptitle(\"Pairplot: Requests/Impressions vs IVT\", y=1.02)\n",
        "plt.show()\n"
      ],
      "metadata": {
        "collapsed": true,
        "id": "UhOmHuAHScFy"
      },
      "execution_count": null,
      "outputs": []
    },
    {
      "cell_type": "code",
      "source": [
        "fig = px.line(final_daily, x='Date', y='total_requests', color='app_name',\n",
        "              facet_col='IVT', title=\"App Traffic Over Time (Valid vs IVT)\")\n",
        "fig.update_layout(xaxis_title=\"Date\", yaxis_title=\"Total Requests\")\n",
        "fig.show()\n"
      ],
      "metadata": {
        "collapsed": true,
        "id": "MIXkdpaKhov1"
      },
      "execution_count": null,
      "outputs": []
    },
    {
      "cell_type": "code",
      "source": [
        "fig = px.scatter_3d(final_daily, x=\"idfa_ip_ratio\", y=\"requests_per_idfa\",z=\"Date\",\n",
        "\t         size=\"idfa_ua_ratio\", color=\"IVT\",\n",
        "                 hover_name=\"Date\", log_x=True, size_max=60)\n",
        "fig.show()"
      ],
      "metadata": {
        "collapsed": true,
        "id": "0YMlZ_-7jVBS"
      },
      "execution_count": null,
      "outputs": []
    },
    {
      "cell_type": "code",
      "source": [
        "if 'Date' in final_daily.columns:\n",
        "    daily_trend = final_daily.groupby(['Date', 'IVT'])['unique_idfas'].sum().reset_index()\n",
        "    fig = px.line(daily_trend, x='Date', y='unique_idfas', color='IVT',\n",
        "                  title=\"Daily unique idfas Trend (Valid vs IVT)\",\n",
        "                  color_discrete_map={0: 'blue', 1: 'red'})\n",
        "    fig.update_layout(xaxis_title=\"Date\", yaxis_title=\"Unique IDFA Count\")\n",
        "    fig.show()\n"
      ],
      "metadata": {
        "collapsed": true,
        "id": "4fbmnB7wliVC"
      },
      "execution_count": null,
      "outputs": []
    },
    {
      "cell_type": "code",
      "source": [
        "corr_valid = final_total[final_total['IVT']==0].corr(numeric_only=True)\n",
        "corr_ivt = final_total[final_total['IVT']==1].corr(numeric_only=True)\n",
        "\n",
        "fig, axes = plt.subplots(1, 2, figsize=(14,6))\n",
        "sns.heatmap(corr_valid, ax=axes[0], cmap='coolwarm', annot=False)\n",
        "axes[0].set_title(\"Valid Traffic Correlations\")\n",
        "sns.heatmap(corr_ivt, ax=axes[1], cmap='coolwarm', annot=False)\n",
        "axes[1].set_title(\"IVT Traffic Correlations\")\n",
        "plt.show()\n"
      ],
      "metadata": {
        "collapsed": true,
        "id": "KC38pwlxnOzI"
      },
      "execution_count": null,
      "outputs": []
    },
    {
      "cell_type": "code",
      "source": [
        "ratio_cols = ['idfa_ip_ratio', 'idfa_ua_ratio', 'requests_per_idfa', 'impressions_per_idfa']\n",
        "for col in ratio_cols:\n",
        "    fig = px.violin(final_hourly, x='IVT', y=col, color='app_name', box=True, points=\"all\",\n",
        "                    title=f\"{col} Distribution by IVT Type\")\n",
        "    fig.show()\n"
      ],
      "metadata": {
        "collapsed": true,
        "id": "ZzXkDEs7nfYF"
      },
      "execution_count": null,
      "outputs": []
    },
    {
      "cell_type": "code",
      "source": [
        "# Filter out rows where impressions are zero to avoid ZeroDivisionError\n",
        "\n",
        "fig = px.sunburst(final_daily, path=['app_name',\"unique_idfas\",\"idfa_ip_ratio\"], values=\"unique_uas\",\n",
        "                  color='app_name', color_discrete_map={0:'blue', 1:'red'},\n",
        "                  title=\"Traffic Composition (App → IVT → Level)\")\n",
        "fig.show()"
      ],
      "metadata": {
        "collapsed": true,
        "id": "83GRrqRiob3o"
      },
      "execution_count": null,
      "outputs": []
    },
    {
      "cell_type": "code",
      "source": [
        "fig = px.density_heatmap(final_hourly, x='idfa_ip_ratio', y='requests_per_idfa',\n",
        "                         facet_col='IVT', title=\"Traffic Density by IVT Type\")\n",
        "fig.show()\n"
      ],
      "metadata": {
        "collapsed": true,
        "id": "8g9DPYtIr_mL"
      },
      "execution_count": null,
      "outputs": []
    }
  ]
}